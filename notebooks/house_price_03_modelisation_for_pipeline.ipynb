{
 "cells": [
  {
   "cell_type": "markdown",
   "id": "406c5af9",
   "metadata": {},
   "source": [
    "# Modélisation"
   ]
  },
  {
   "cell_type": "markdown",
   "id": "026a8ec2",
   "metadata": {},
   "source": [
    "## 1. Préparation"
   ]
  },
  {
   "cell_type": "markdown",
   "id": "92e2c003",
   "metadata": {},
   "source": [
    "### 🔹 Objectif\n",
    "\n",
    "Charger les données traitées (`data/processed/`), séparer les variables explicatives (features) de la variable cible (target), puis diviser les données en ensembles d'entraînement et de validation. On fixe également une graine aléatoire pour assurer la reproductibilité des résultats."
   ]
  },
  {
   "cell_type": "code",
   "execution_count": 116,
   "id": "2fa8c7a2",
   "metadata": {},
   "outputs": [],
   "source": [
    "# 1. Imports\n",
    "import pandas as pd\n",
    "from sklearn.model_selection import train_test_split\n",
    "import numpy as np\n",
    "import random\n",
    "from pathlib import Path\n",
    "import seaborn as sns\n",
    "import matplotlib.pyplot as plt"
   ]
  },
  {
   "cell_type": "code",
   "execution_count": 145,
   "id": "173fef6b",
   "metadata": {},
   "outputs": [],
   "source": [
    "# 2. Fixer la seed pour reproductibilité\n",
    "SEED = 42\n",
    "np.random.seed(SEED)\n",
    "random.seed(SEED)\n",
    "TARGET_NAME = \"SalePrice\"\n",
    "\n",
    "# 3. Charger les données traitées\n",
    "# Répertoire des données\n",
    "DATA_DIR = Path(\"./../data/\")\n",
    "PROCESSED_DIR = DATA_DIR / \"processed\"\n",
    "\n",
    "# Chargement des fichiers\n",
    "X = pd.read_csv(PROCESSED_DIR / \"X_train_processed.csv\")\n",
    "y = pd.read_csv(PROCESSED_DIR / \"y_train.csv\").squeeze()  # .squeeze() pour avoir une Series si 1 seule colonne"
   ]
  },
  {
   "cell_type": "markdown",
   "id": "1b76da3d",
   "metadata": {},
   "source": [
    "**Split en train / validation**"
   ]
  },
  {
   "cell_type": "code",
   "execution_count": 146,
   "id": "64e476b5",
   "metadata": {},
   "outputs": [
    {
     "name": "stdout",
     "output_type": "stream",
     "text": [
      "Taille X_train : (1168, 75)\n",
      "Taille X_val   : (146, 75)\n",
      "Taille X_test  : (146, 75)\n"
     ]
    }
   ],
   "source": [
    "# 6. Split des données\n",
    "X_train, X_val, y_train, y_val = train_test_split(\n",
    "    X, y, test_size=0.2, random_state=SEED\n",
    ")\n",
    "X_test, X_val, y_test, y_val = train_test_split(\n",
    "    X_val, y_val, test_size=0.5, random_state=SEED)\n",
    "\n",
    "print(\"Taille X_train :\", X_train.shape)\n",
    "print(\"Taille X_val   :\", X_val.shape)\n",
    "print(\"Taille X_test  :\", X_test.shape)"
   ]
  },
  {
   "cell_type": "markdown",
   "id": "8ed5f858",
   "metadata": {},
   "source": [
    "**On applique le log-transform sur les targets**\n",
    "\n",
    "log1p(y) signifie **log(1 + y)**"
   ]
  },
  {
   "cell_type": "code",
   "execution_count": 148,
   "id": "40fd0a86",
   "metadata": {},
   "outputs": [],
   "source": [
    "y_train = np.log1p(y_train)\n",
    "y_val = np.log1p(y_val)\n",
    "y_test = np.log1p(y_test)\n"
   ]
  },
  {
   "cell_type": "markdown",
   "id": "8221aef5",
   "metadata": {},
   "source": [
    "## 3. Baseline"
   ]
  },
  {
   "cell_type": "markdown",
   "id": "cc18bda3",
   "metadata": {},
   "source": [
    "### Objectif\n",
    "\n",
    "- Créer un modèle simple (régression linéaire)\n",
    "- Calculer ses performances\n",
    "- Logguer les résultats dans MLflow"
   ]
  },
  {
   "cell_type": "code",
   "execution_count": 152,
   "id": "c01a5eb8",
   "metadata": {},
   "outputs": [],
   "source": [
    "from sklearn.linear_model import LinearRegression\n",
    "from sklearn.metrics import mean_squared_error, mean_absolute_error, r2_score\n",
    "import mlflow\n",
    "import mlflow.sklearn\n",
    "import numpy as np\n"
   ]
  },
  {
   "cell_type": "markdown",
   "id": "dc981e0f",
   "metadata": {},
   "source": [
    " Fonction d’évaluation"
   ]
  },
  {
   "cell_type": "code",
   "execution_count": 153,
   "id": "b95e6cca",
   "metadata": {},
   "outputs": [],
   "source": [
    "def evaluate_model(y_true, y_pred):\n",
    "    rmse = np.sqrt(mean_squared_error(y_true, y_pred))\n",
    "    mae = mean_absolute_error(y_true, y_pred)\n",
    "    r2 = r2_score(y_true, y_pred)\n",
    "    return {\"rmse\": rmse, \"mae\": mae, \"r2\": r2}\n"
   ]
  },
  {
   "cell_type": "markdown",
   "id": "c8ea861a",
   "metadata": {},
   "source": [
    "Fonction d'entraînement avec MLflow"
   ]
  },
  {
   "cell_type": "code",
   "execution_count": null,
   "id": "8b84a312",
   "metadata": {},
   "outputs": [],
   "source": [
    "def train_baseline_model(X_train, y_train, X_val, y_val):\n",
    "    model = LinearRegression()\n",
    "    model.fit(X_train, y_train)\n",
    "    y_pred = model.predict(X_val)\n",
    "\n",
    "    metrics = evaluate_model(y_val, y_pred)\n",
    "\n",
    "    return model, metrics\n"
   ]
  },
  {
   "cell_type": "markdown",
   "id": "ad1f2cdf",
   "metadata": {},
   "source": [
    "Lancer l'entraînement"
   ]
  },
  {
   "cell_type": "code",
   "execution_count": 155,
   "id": "0ee813c5",
   "metadata": {},
   "outputs": [
    {
     "name": "stderr",
     "output_type": "stream",
     "text": [
      "2025/07/31 18:55:47 WARNING mlflow.models.model: `artifact_path` is deprecated. Please use `name` instead.\n",
      "2025/07/31 18:56:01 WARNING mlflow.models.model: Model logged without a signature and input example. Please set `input_example` parameter when logging the model to auto infer the model signature.\n"
     ]
    },
    {
     "data": {
      "text/plain": [
       "{'rmse': 0.14197568102675445,\n",
       " 'mae': 0.09991617009387864,\n",
       " 'r2': 0.8940443634854975}"
      ]
     },
     "execution_count": 155,
     "metadata": {},
     "output_type": "execute_result"
    }
   ],
   "source": [
    "baseline_model, baseline_metrics = train_baseline_model(X_train, y_train, X_val, y_val)\n",
    "baseline_metrics"
   ]
  },
  {
   "cell_type": "markdown",
   "id": "4811bae5",
   "metadata": {},
   "source": [
    "Affichage des résultats"
   ]
  },
  {
   "cell_type": "code",
   "execution_count": 157,
   "id": "14bf9dca",
   "metadata": {},
   "outputs": [
    {
     "name": "stdout",
     "output_type": "stream",
     "text": [
      "RMSE: 0.1420\n",
      "MAE: 0.0999\n",
      "R2: 0.8940\n"
     ]
    }
   ],
   "source": [
    "for metric, value in baseline_metrics.items():\n",
    "    print(f\"{metric.upper()}: {value:.4f}\")"
   ]
  },
  {
   "cell_type": "markdown",
   "id": "a0476c75",
   "metadata": {},
   "source": [
    "## 4. Expérimentation Modèles"
   ]
  },
  {
   "cell_type": "markdown",
   "id": "5f6e2e6f",
   "metadata": {},
   "source": [
    " Imports utiles"
   ]
  },
  {
   "cell_type": "code",
   "execution_count": 158,
   "id": "c7b427d8",
   "metadata": {},
   "outputs": [],
   "source": [
    "from sklearn.ensemble import RandomForestRegressor\n",
    "from xgboost import XGBRegressor\n",
    "\n",
    "\n",
    "from sklearn.svm import SVR\n",
    "from sklearn.neighbors import KNeighborsRegressor\n",
    "\n",
    "from sklearn.model_selection import GridSearchCV\n",
    "from sklearn.metrics import mean_squared_error, mean_absolute_error\n",
    "\n"
   ]
  },
  {
   "cell_type": "markdown",
   "id": "0a314693",
   "metadata": {},
   "source": [
    "#### Fonction générique d'entraînement + log MLflow (modèles sklearn)"
   ]
  },
  {
   "cell_type": "code",
   "execution_count": null,
   "id": "24116229",
   "metadata": {},
   "outputs": [],
   "source": [
    "def train_and_log_model(name, model_class, params, X_train, y_train, X_val, y_val):\n",
    "    with mlflow.start_run(run_name=name):\n",
    "        model = model_class(**params)\n",
    "        model.fit(X_train, y_train)\n",
    "        y_pred = model.predict(X_val)\n",
    "\n",
    "        metrics = evaluate_model(y_val, y_pred)\n",
    "\n",
    "\n",
    "    return model, metrics\n"
   ]
  },
  {
   "cell_type": "markdown",
   "id": "9bebdf1e",
   "metadata": {},
   "source": [
    "Expérimentation 1 : Random Forest"
   ]
  },
  {
   "cell_type": "code",
   "execution_count": 160,
   "id": "d6062ce8",
   "metadata": {},
   "outputs": [
    {
     "name": "stderr",
     "output_type": "stream",
     "text": [
      "2025/07/31 18:59:39 WARNING mlflow.models.model: `artifact_path` is deprecated. Please use `name` instead.\n",
      "2025/07/31 18:59:50 WARNING mlflow.models.model: Model logged without a signature and input example. Please set `input_example` parameter when logging the model to auto infer the model signature.\n"
     ]
    }
   ],
   "source": [
    "rf_params = {\n",
    "    \"n_estimators\": 100,\n",
    "    \"max_depth\": 5,\n",
    "    \"random_state\": 42\n",
    "}\n",
    "\n",
    "rf_model, rf_metrics = train_and_log_model(\n",
    "    name=\"RandomForest\",\n",
    "    model_class=RandomForestRegressor,\n",
    "    params=rf_params,\n",
    "    X_train=X_train,\n",
    "    y_train=y_train,\n",
    "    X_val=X_val,\n",
    "    y_val=y_val\n",
    ")\n"
   ]
  },
  {
   "cell_type": "markdown",
   "id": "d62b7abc",
   "metadata": {},
   "source": [
    "Expérimentation 2 : XGBoost"
   ]
  },
  {
   "cell_type": "code",
   "execution_count": 161,
   "id": "1f3a60e6",
   "metadata": {},
   "outputs": [
    {
     "name": "stderr",
     "output_type": "stream",
     "text": [
      "2025/07/31 19:00:00 WARNING mlflow.models.model: `artifact_path` is deprecated. Please use `name` instead.\n",
      "2025/07/31 19:00:15 WARNING mlflow.models.model: Model logged without a signature and input example. Please set `input_example` parameter when logging the model to auto infer the model signature.\n"
     ]
    }
   ],
   "source": [
    "xgb_params = {\n",
    "    \"n_estimators\": 100,\n",
    "    \"learning_rate\": 0.1,\n",
    "    \"max_depth\": 4,\n",
    "    \"random_state\": 42\n",
    "}\n",
    "\n",
    "xgb_model, xgb_metrics = train_and_log_model(\n",
    "    name=\"XGBoost\",\n",
    "    model_class=XGBRegressor,\n",
    "    params=xgb_params,\n",
    "    X_train=X_train,\n",
    "    y_train=y_train,\n",
    "    X_val=X_val,\n",
    "    y_val=y_val\n",
    ")\n"
   ]
  },
  {
   "cell_type": "markdown",
   "id": "89f066e7",
   "metadata": {},
   "source": [
    "Expérimentation 3 : SVR"
   ]
  },
  {
   "cell_type": "code",
   "execution_count": 162,
   "id": "f0abd851",
   "metadata": {},
   "outputs": [
    {
     "name": "stderr",
     "output_type": "stream",
     "text": [
      "2025/07/31 19:00:36 WARNING mlflow.models.model: `artifact_path` is deprecated. Please use `name` instead.\n",
      "2025/07/31 19:00:50 WARNING mlflow.models.model: Model logged without a signature and input example. Please set `input_example` parameter when logging the model to auto infer the model signature.\n"
     ]
    }
   ],
   "source": [
    "svr_params = {\n",
    "    \"kernel\": \"rbf\",\n",
    "    \"C\": 100,\n",
    "    \"epsilon\": 0.1\n",
    "}\n",
    "\n",
    "svr_model, svr_metrics = train_and_log_model(\n",
    "    name=\"SVR\",\n",
    "    model_class=SVR,\n",
    "    params=svr_params,\n",
    "    X_train=X_train,\n",
    "    y_train=y_train,\n",
    "    X_val=X_val,\n",
    "    y_val=y_val\n",
    ")\n"
   ]
  },
  {
   "cell_type": "markdown",
   "id": "f308eaa2",
   "metadata": {},
   "source": [
    "Expérimentation 4 : KNN"
   ]
  },
  {
   "cell_type": "code",
   "execution_count": 163,
   "id": "5aa65027",
   "metadata": {},
   "outputs": [
    {
     "name": "stderr",
     "output_type": "stream",
     "text": [
      "2025/07/31 19:00:50 WARNING mlflow.models.model: `artifact_path` is deprecated. Please use `name` instead.\n"
     ]
    },
    {
     "name": "stderr",
     "output_type": "stream",
     "text": [
      "2025/07/31 19:01:03 WARNING mlflow.models.model: Model logged without a signature and input example. Please set `input_example` parameter when logging the model to auto infer the model signature.\n"
     ]
    }
   ],
   "source": [
    "knn_params = {\n",
    "    \"n_neighbors\": 5\n",
    "}\n",
    "\n",
    "knn_model, knn_metrics = train_and_log_model(\n",
    "    name=\"KNN\",\n",
    "    model_class=KNeighborsRegressor,\n",
    "    params=knn_params,\n",
    "    X_train=X_train,\n",
    "    y_train=y_train,\n",
    "    X_val=X_val,\n",
    "    y_val=y_val\n",
    ")\n"
   ]
  },
  {
   "cell_type": "markdown",
   "id": "8d5a01d0",
   "metadata": {},
   "source": [
    "##### Résumé des performances"
   ]
  },
  {
   "cell_type": "code",
   "execution_count": 164,
   "id": "266dd3d9",
   "metadata": {},
   "outputs": [
    {
     "name": "stdout",
     "output_type": "stream",
     "text": [
      "\n",
      "RandomForest\n",
      "  RMSE: 0.1540\n",
      "  MAE: 0.1107\n",
      "  R2: 0.8754\n",
      "\n",
      "XGBoost\n",
      "  RMSE: 0.1344\n",
      "  MAE: 0.0945\n",
      "  R2: 0.9051\n",
      "\n",
      "SVR\n",
      "  RMSE: 0.1596\n",
      "  MAE: 0.1143\n",
      "  R2: 0.8660\n",
      "\n",
      "KNN\n",
      "  RMSE: 0.1742\n",
      "  MAE: 0.1220\n",
      "  R2: 0.8405\n"
     ]
    }
   ],
   "source": [
    "results = {\n",
    "    \"RandomForest\": rf_metrics,\n",
    "    \"XGBoost\": xgb_metrics,\n",
    "    \"SVR\": svr_metrics,\n",
    "    \"KNN\": knn_metrics\n",
    "}\n",
    "\n",
    "for model_name, scores in results.items():\n",
    "    print(f\"\\n{model_name}\")\n",
    "    for metric, value in scores.items():\n",
    "        print(f\"  {metric.upper()}: {value:.4f}\")\n"
   ]
  },
  {
   "cell_type": "markdown",
   "id": "72fa2f48",
   "metadata": {},
   "source": [
    "## 5. Tuning des hyperparamètres\n",
    "Nous allons maintenant optimiser les hyperparamètres du modèle XGBoost en utilisant GridSearchCV.\n",
    "\n",
    "L’objectif est d’améliorer encore ses performances tout en logguant les résultats avec MLflow"
   ]
  },
  {
   "cell_type": "markdown",
   "id": "e01f0546",
   "metadata": {},
   "source": [
    "#### Définition de la grille de recherche"
   ]
  },
  {
   "cell_type": "code",
   "execution_count": null,
   "id": "df591c98",
   "metadata": {},
   "outputs": [],
   "source": [
    "param_grid = {\n",
    "    'n_estimators': [50, 100, 150],\n",
    "    'max_depth': [2, 3, 4, 5, 6],\n",
    "    'learning_rate': [0.01, 0.1, 0.3],\n",
    "    'subsample': [0.6, 0.8, 1.0],\n",
    "}"
   ]
  },
  {
   "cell_type": "markdown",
   "id": "33b66a11",
   "metadata": {},
   "source": [
    "Recherche par validation croisée + MLflow Logging"
   ]
  },
  {
   "cell_type": "code",
   "execution_count": null,
   "id": "0f9f1ec3",
   "metadata": {},
   "outputs": [
    {
     "name": "stdout",
     "output_type": "stream",
     "text": [
      "Fitting 3 folds for each of 135 candidates, totalling 405 fits\n"
     ]
    },
    {
     "name": "stdout",
     "output_type": "stream",
     "text": [
      "Best Parameters: {'learning_rate': 0.1, 'max_depth': 4, 'n_estimators': 100, 'subsample': 0.8}\n"
     ]
    },
    {
     "name": "stderr",
     "output_type": "stream",
     "text": [
      "2025/07/31 19:09:17 WARNING mlflow.models.model: `artifact_path` is deprecated. Please use `name` instead.\n",
      "2025/07/31 19:09:31 WARNING mlflow.models.model: Model logged without a signature and input example. Please set `input_example` parameter when logging the model to auto infer the model signature.\n"
     ]
    },
    {
     "name": "stdout",
     "output_type": "stream",
     "text": [
      "Validation RMSE: 0.13\n",
      "Validation MAE: 0.10\n",
      "Validation R²: 0.9080\n"
     ]
    }
   ],
   "source": [
    "with mlflow.start_run(run_name=\"XGBoost_Tuning\"):\n",
    "\n",
    "    xgb = XGBRegressor(random_state=42, n_jobs=-1, verbosity=0)\n",
    "    grid_search = GridSearchCV(\n",
    "        estimator=xgb,\n",
    "        param_grid=param_grid,\n",
    "        cv=3,\n",
    "        scoring='neg_root_mean_squared_error',\n",
    "        verbose=1,\n",
    "        n_jobs=-1\n",
    "    )\n",
    "\n",
    "    grid_search.fit(X_train, y_train)\n",
    "\n",
    "    # Meilleurs hyperparamètres\n",
    "    best_params = grid_search.best_params_\n",
    "    print(\"Best Parameters:\", best_params)\n",
    "\n",
    "    # Évaluation sur la validation\n",
    "    best_model = grid_search.best_estimator_\n",
    "    val_preds = best_model.predict(X_val)\n",
    "    eval_metrics = evaluate_model(y_val, val_preds)\n",
    "\n",
    "   \n",
    "\n",
    "    print(f\"Validation RMSE: {eval_metrics['rmse']:.2f}\")\n",
    "    print(f\"Validation MAE: {eval_metrics['mae']:.2f}\")\n",
    "    print(f\"Validation R²: {eval_metrics['r2']:.4f}\")\n"
   ]
  },
  {
   "cell_type": "markdown",
   "id": "0e7bdeb4",
   "metadata": {},
   "source": [
    "##### on stocke les métriques et paramètres du meilleur model"
   ]
  },
  {
   "cell_type": "code",
   "execution_count": null,
   "id": "2d8da59d",
   "metadata": {},
   "outputs": [],
   "source": [
    "import pickle\n",
    "from pathlib import Path\n",
    "\n",
    "# Créer un dictionnaire avec les seuils\n",
    "metrics = {\n",
    "    \"rmse\": eval_metrics[\"rmse\"],\n",
    "    \"mae\": eval_metrics[\"mae\"],\n",
    "    \"r\": eval_metrics[\"r2\"]\n",
    "}\n",
    "params = {\n",
    "    \"n_estimators\": best_params[\"n_estimators\"],\n",
    "    \"max_depth\": best_params[\"max_depth\"],\n",
    "    \"learning_rate\": best_params[\"learning_rate\"],\n",
    "    \"subsample\": best_params[\"subsample\"]\n",
    "}\n",
    "\n",
    "# Sauvegarder dans un fichier .pkl\n",
    "metrics_path = Path(\"./../models/xgb_best_metrics.pkl\")\n",
    "params_path = Path(\"./../models/xgb_best_params.pkl\")\n",
    "\n",
    "with open(metrics_path, \"wb\") as f:\n",
    "    pickle.dump(metrics, f)\n",
    "    \n",
    "with open(params_path, \"wb\") as f:\n",
    "    pickle.dump(params, f)\n",
    "    "
   ]
  },
  {
   "cell_type": "markdown",
   "id": "a9533f9a",
   "metadata": {},
   "source": [
    "## 6. Évaluation finale\n",
    "\n",
    "On évalue maintenant **le meilleur modèle** sur un jeu **test** **jamais vu**."
   ]
  },
  {
   "cell_type": "code",
   "execution_count": 168,
   "id": "0af1f13a",
   "metadata": {},
   "outputs": [
    {
     "name": "stdout",
     "output_type": "stream",
     "text": [
      "Test RMSE: 0.1534\n",
      "Test MAE: 0.0981\n",
      "Test R²: 0.8703\n"
     ]
    }
   ],
   "source": [
    "# Prédictions finales\n",
    "y_pred = best_model.predict(X_test)\n",
    "\n",
    "# Métriques\n",
    "rmse, mae, r2 = evaluate_model(y_test, y_pred).values()\n",
    "\n",
    "print(f\"Test RMSE: {rmse:.4f}\")\n",
    "print(f\"Test MAE: {mae:.4f}\")\n",
    "print(f\"Test R²: {r2:.4f}\")"
   ]
  },
  {
   "cell_type": "markdown",
   "id": "8cc8c75c",
   "metadata": {},
   "source": [
    "## 7. Export & Suivi"
   ]
  },
  {
   "cell_type": "code",
   "execution_count": 171,
   "id": "3ed8b901",
   "metadata": {},
   "outputs": [
    {
     "data": {
      "text/plain": [
       "['./../models/best_model.pkl']"
      ]
     },
     "execution_count": 171,
     "metadata": {},
     "output_type": "execute_result"
    }
   ],
   "source": [
    "import joblib\n",
    "\n",
    "# Sauvegarde en local\n",
    "joblib.dump(best_model, \"./../models/best_model.pkl\")\n"
   ]
  }
 ],
 "metadata": {
  "kernelspec": {
   "display_name": "house_price_env",
   "language": "python",
   "name": "python3"
  },
  "language_info": {
   "codemirror_mode": {
    "name": "ipython",
    "version": 3
   },
   "file_extension": ".py",
   "mimetype": "text/x-python",
   "name": "python",
   "nbconvert_exporter": "python",
   "pygments_lexer": "ipython3",
   "version": "3.10.18"
  }
 },
 "nbformat": 4,
 "nbformat_minor": 5
}
